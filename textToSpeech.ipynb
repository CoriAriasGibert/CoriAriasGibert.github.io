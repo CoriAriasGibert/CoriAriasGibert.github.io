# 0. INSTALL DEEPENDENCIES

!pip install ibm_watson

# 1. AUTHENTICATE https://cloud.ibm.com/

url = '====== COPY YOUR PERSONAL URL============'
apikey ='======YOUR API KEY ====================='

from ibm_watson import TextToSpeechV1
from ibm_cloud_sdk_core.authenticators import IAMAuthenticator

# Setup Service
authenticator = IAMAuthenticator (apikey)
# New TTS Service
tts = TextToSpeechV1 (authenticator=authenticator)
#Set Service URL
tts.set_service_url(url)

# 2. CONVERT A STRING

with open('./speech.mp3','wb') as audio_file:
    res = tts.synthesize('Bonjour les amies ! qui aime la glace ?' , accept='audio/mp3', voice='fr-FR_NicolasV3Voice').get_result()
    audio_file.write(res.content)

# 3. CONVERT FROM A FILE

with open("Sardaigne.txt","r") as f:
    text= f.readlines()

text

text = [line.replace('\n' , ' ')for line in text]
text = [line.replace('\xa0', ' ')for line in text]
text = ''.join(str(line) for line in text)

text

with open("./Sardaigne.mp3","wb") as audio_file:
    res = tts.synthesize(text, accept = 'audio/mp3', voice = 'fr-FR_NicolasV3Voice').get_result()
    audio_file.write(res.content)
